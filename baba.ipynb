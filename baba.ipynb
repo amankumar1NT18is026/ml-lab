{
 "cells": [
  {
   "cell_type": "code",
   "execution_count": 1,
   "id": "93a6f21c",
   "metadata": {},
   "outputs": [
    {
     "name": "stdout",
     "output_type": "stream",
     "text": [
      "total saving22\n",
      "he is going to be a baba\n"
     ]
    }
   ],
   "source": [
    "a = int(input(\"total saving\"))\n",
    "if(a>5000):\n",
    "    if(a>15000):\n",
    "        print(\"he will go to roadtrip\")\n",
    "    else:\n",
    "        print(\"he will go to home\")\n",
    "        \n",
    "elif(a>3000):\n",
    "    print(\"he is going to delhi\")\n",
    "else:\n",
    "    print(\"he is going to be a baba\")"
   ]
  },
  {
   "cell_type": "code",
   "execution_count": null,
   "id": "88875bf4",
   "metadata": {},
   "outputs": [],
   "source": []
  }
 ],
 "metadata": {
  "kernelspec": {
   "display_name": "Python 3",
   "language": "python",
   "name": "python3"
  },
  "language_info": {
   "codemirror_mode": {
    "name": "ipython",
    "version": 3
   },
   "file_extension": ".py",
   "mimetype": "text/x-python",
   "name": "python",
   "nbconvert_exporter": "python",
   "pygments_lexer": "ipython3",
   "version": "3.8.8"
  }
 },
 "nbformat": 4,
 "nbformat_minor": 5
}
