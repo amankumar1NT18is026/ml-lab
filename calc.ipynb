{
 "cells": [
  {
   "cell_type": "code",
   "execution_count": null,
   "id": "71c99df8",
   "metadata": {},
   "outputs": [
    {
     "name": "stdout",
     "output_type": "stream",
     "text": [
      "select\n",
      "1.add\n",
      "2.sub\n",
      "3.mpl\n",
      "4.div\n"
     ]
    }
   ],
   "source": [
    "def add(a,b):\n",
    "     return a+b\n",
    "def sub(a,b):\n",
    "    return a-b\n",
    "def mpl(a,b):\n",
    "    return a*b\n",
    "def div(a,b):\n",
    "    return a/b\n",
    "print(\"select\")\n",
    "print(\"1.add\")\n",
    "print(\"2.sub\")\n",
    "print(\"3.mpl\")\n",
    "print(\"4.div\")\n",
    "\n",
    "e= input(\"enter the oper\")\n",
    "f=int(input(\"enter the number\"))\n",
    "\n",
    "g= int(input(\"enter the number\" ))\n",
    "if (e=='1'):\n",
    "    print(\"sum of number is\" ,add(f,g))\n",
    "elif(e=='2'):\n",
    "    print(\"sub of number is \",sub(f,g))\n",
    "elif(e=='3'):\n",
    "    print(\"mpl of number is\" ,mpl(f,g))\n",
    "elif(e=='4'):\n",
    "    print(\"div of number is\" ,div(f,g))\n",
    "else :\n",
    "    print(\"invalid\")\n",
    "    "
   ]
  },
  {
   "cell_type": "code",
   "execution_count": null,
   "id": "df17be99",
   "metadata": {},
   "outputs": [],
   "source": []
  }
 ],
 "metadata": {
  "kernelspec": {
   "display_name": "Python 3",
   "language": "python",
   "name": "python3"
  },
  "language_info": {
   "codemirror_mode": {
    "name": "ipython",
    "version": 3
   },
   "file_extension": ".py",
   "mimetype": "text/x-python",
   "name": "python",
   "nbconvert_exporter": "python",
   "pygments_lexer": "ipython3",
   "version": "3.8.8"
  }
 },
 "nbformat": 4,
 "nbformat_minor": 5
}
