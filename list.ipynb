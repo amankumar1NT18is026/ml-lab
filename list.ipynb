{
 "cells": [
  {
   "cell_type": "code",
   "execution_count": 3,
   "id": "2e273c47",
   "metadata": {},
   "outputs": [
    {
     "name": "stdout",
     "output_type": "stream",
     "text": [
      "[10, 20, 30, 40]\n",
      "[1, 2, 'hi', 'how', 'are', 'u']\n",
      "[10, 20, 1, 2, 'hi', 'how', 'are', 'u']\n"
     ]
    }
   ],
   "source": [
    "lst=[10,20,30,22]\n",
    "lst.append(40)\n",
    "len(lst)\n",
    "lst.remove(22)\n",
    "print(lst)\n",
    "lst.pop()\n",
    "lst.pop(2)\n",
    "lst2=[1,2,\"hi\", \"how\" ,\"are\" ,\"u\"]\n",
    "print(lst2)\n",
    "print(lst+lst2)"
   ]
  },
  {
   "cell_type": "code",
   "execution_count": null,
   "id": "c9886fb6",
   "metadata": {},
   "outputs": [],
   "source": []
  }
 ],
 "metadata": {
  "kernelspec": {
   "display_name": "Python 3",
   "language": "python",
   "name": "python3"
  },
  "language_info": {
   "codemirror_mode": {
    "name": "ipython",
    "version": 3
   },
   "file_extension": ".py",
   "mimetype": "text/x-python",
   "name": "python",
   "nbconvert_exporter": "python",
   "pygments_lexer": "ipython3",
   "version": "3.8.8"
  }
 },
 "nbformat": 4,
 "nbformat_minor": 5
}
