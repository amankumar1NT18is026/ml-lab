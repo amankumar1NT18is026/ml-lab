{
 "cells": [
  {
   "cell_type": "code",
   "execution_count": 4,
   "id": "c5e44598",
   "metadata": {},
   "outputs": [
    {
     "name": "stdout",
     "output_type": "stream",
     "text": [
      " the mean of elements of list is  4.5\n"
     ]
    }
   ],
   "source": [
    "def mean(lst):\n",
    "    return sum(lst)/len(lst)\n",
    "lst=[1,2,3,4,5,6,7,8,9,0]\n",
    "print(\" the mean of elements of list is \",mean(lst))\n",
    "\n",
    "\n"
   ]
  },
  {
   "cell_type": "code",
   "execution_count": 8,
   "id": "0841fa7e",
   "metadata": {},
   "outputs": [
    {
     "name": "stdout",
     "output_type": "stream",
     "text": [
      "mean of list is  4.5\n",
      "median ist is  4.5\n",
      "mode list is  1\n"
     ]
    }
   ],
   "source": [
    "import statistics as st\n",
    "a=st.mean(lst)\n",
    "b=st.median(lst)\n",
    "c=st.mode(lst)\n",
    "print(\"mean of list is \",a)\n",
    "print(\"median ist is \",b)\n",
    "print(\"mode list is \",c)\n"
   ]
  },
  {
   "cell_type": "code",
   "execution_count": 11,
   "id": "9d3257b8",
   "metadata": {},
   "outputs": [
    {
     "name": "stdout",
     "output_type": "stream",
     "text": [
      "Median is: 4.5\n"
     ]
    }
   ],
   "source": [
    "\n",
    "n = len(lst)\n",
    "lst.sort()\n",
    "  \n",
    "if (n % 2 == 0):\n",
    "    median1 = lst[n//2]\n",
    "    median2 = lst[n//2 - 1]\n",
    "    median = (median1 + median2)/2\n",
    "else:\n",
    "    median = lst[n//2]\n",
    "print(\"Median is: \" + str(median))"
   ]
  },
  {
   "cell_type": "code",
   "execution_count": null,
   "id": "96076d4b",
   "metadata": {},
   "outputs": [],
   "source": []
  }
 ],
 "metadata": {
  "kernelspec": {
   "display_name": "Python 3",
   "language": "python",
   "name": "python3"
  },
  "language_info": {
   "codemirror_mode": {
    "name": "ipython",
    "version": 3
   },
   "file_extension": ".py",
   "mimetype": "text/x-python",
   "name": "python",
   "nbconvert_exporter": "python",
   "pygments_lexer": "ipython3",
   "version": "3.8.8"
  }
 },
 "nbformat": 4,
 "nbformat_minor": 5
}
